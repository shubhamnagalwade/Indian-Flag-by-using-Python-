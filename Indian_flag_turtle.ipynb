{
 "cells": [
  {
   "cell_type": "code",
   "execution_count": 1,
   "metadata": {},
   "outputs": [],
   "source": [
    "import turtle\n",
    "from turtle import *\n",
    "import tkinter as _\n",
    "from tkinter import *\n",
    "\n",
    "\n",
    "_.ROUND = _.BUTT"
   ]
  },
  {
   "cell_type": "code",
   "execution_count": 3,
   "metadata": {},
   "outputs": [],
   "source": [
    "turtle.title(\"Happy independence day\")"
   ]
  },
  {
   "cell_type": "code",
   "execution_count": 4,
   "metadata": {},
   "outputs": [],
   "source": [
    "#getting a screen\n",
    "\n",
    "flag_screen = turtle.Screen()\n",
    "\n",
    "speed(8)\n",
    "setup(600,400)\n",
    "\n",
    "penup()\n",
    "goto(-300,250)\n",
    "pendown()\n",
    "\n"
   ]
  },
  {
   "cell_type": "markdown",
   "metadata": {},
   "source": [
    "# Indain Flag"
   ]
  },
  {
   "cell_type": "code",
   "execution_count": 5,
   "metadata": {},
   "outputs": [],
   "source": [
    "#orange color\n",
    "\n",
    "color(\"orange\")\n",
    "begin_fill()\n",
    "turtle.speed(5)\n",
    "fd(800)\n",
    "rt(90)\n",
    "fd(167)\n",
    "rt(90)\n",
    "fd(800)\n",
    "end_fill()\n",
    "\n",
    "lt(90)\n",
    "fd(167)\n",
    "\n",
    "\n",
    "#green color\n",
    "\n",
    "color(\"green\")\n",
    "begin_fill()\n",
    "turtle.speed(5)\n",
    "fd(167)\n",
    "lt(90)\n",
    "fd(800)\n",
    "lt(90)\n",
    "fd(167)\n",
    "end_fill()\n",
    "\n",
    "#ashok chkra\n",
    "\n",
    "#big blue circle(outer)\n",
    "penup()\n",
    "goto(60,30)\n",
    "pendown()\n",
    "penup()\n",
    "goto(70,0)\n",
    "pendown()\n",
    "color(\"blue\")\n",
    "begin_fill()\n",
    "circle(70)\n",
    "end_fill()\n",
    "\n",
    "\n",
    "#big white circle(inside)\n",
    "penup()\n",
    "goto(70,0)\n",
    "pendown()\n",
    "color(\"white\")\n",
    "begin_fill()\n",
    "circle(70)\n",
    "end_fill()\n",
    "\n",
    "#24 lines\n",
    "penup()\n",
    "goto(-57,-8)\n",
    "pendown()\n",
    "color(\"blue\")\n",
    "for i in range(24):\n",
    "    begin_fill()\n",
    "    circle(3)\n",
    "    end_fill()\n",
    "    penup()\n",
    "    fd(15)\n",
    "    rt(15)\n",
    "    pendown()\n",
    "\n",
    "#small blue circle\n",
    "penup()\n",
    "goto(20,0)\n",
    "pendown()\n",
    "begin_fill()\n",
    "circle(18)\n",
    "end_fill()\n",
    "\n",
    "#blue_line(spoke)\n",
    "penup()\n",
    "goto(0,0)\n",
    "pendown()\n",
    "pensize(2)\n",
    "for i in range(24):\n",
    "    forward(60)\n",
    "    backward(60)\n",
    "    left(15)\n",
    "\n",
    "hideturtle()\n",
    "\n",
    "#turtle.write('Hello')\n",
    "#playTone(freq)\n",
    "#playTone([(\"c\", 700), (\"e\", 1500), ...], instrument = \"piano\")\n",
    "\n",
    "#rec = VideoRecorder(turtle, filename, resolution)\n",
    "done()"
   ]
  },
  {
   "cell_type": "code",
   "execution_count": 6,
   "metadata": {},
   "outputs": [
    {
     "ename": "Terminator",
     "evalue": "",
     "output_type": "error",
     "traceback": [
      "\u001b[0;31m---------------------------------------------------------------------------\u001b[0m",
      "\u001b[0;31mTerminator\u001b[0m                                Traceback (most recent call last)",
      "\u001b[0;32m<ipython-input-6-c9f931ebb7fa>\u001b[0m in \u001b[0;36m<module>\u001b[0;34m\u001b[0m\n\u001b[0;32m----> 1\u001b[0;31m \u001b[0mts\u001b[0m \u001b[0;34m=\u001b[0m \u001b[0mturtle\u001b[0m\u001b[0;34m.\u001b[0m\u001b[0mgetscreen\u001b[0m\u001b[0;34m(\u001b[0m\u001b[0;34m)\u001b[0m\u001b[0;34m\u001b[0m\u001b[0;34m\u001b[0m\u001b[0m\n\u001b[0m\u001b[1;32m      2\u001b[0m \u001b[0;34m\u001b[0m\u001b[0m\n\u001b[1;32m      3\u001b[0m \u001b[0mts\u001b[0m\u001b[0;34m.\u001b[0m\u001b[0mgetcanvas\u001b[0m\u001b[0;34m(\u001b[0m\u001b[0;34m)\u001b[0m\u001b[0;34m.\u001b[0m\u001b[0mpostscript\u001b[0m\u001b[0;34m(\u001b[0m\u001b[0mfile\u001b[0m\u001b[0;34m=\u001b[0m\u001b[0;34m\"sample.eps\"\u001b[0m\u001b[0;34m)\u001b[0m\u001b[0;34m\u001b[0m\u001b[0;34m\u001b[0m\u001b[0m\n",
      "\u001b[0;32m~/anaconda3/lib/python3.7/turtle.py\u001b[0m in \u001b[0;36mgetscreen\u001b[0;34m()\u001b[0m\n",
      "\u001b[0;31mTerminator\u001b[0m: "
     ]
    }
   ],
   "source": [
    "ts = turtle.getscreen()\n",
    "\n",
    "ts.getcanvas().postscript(file=\"sample.eps\")"
   ]
  },
  {
   "cell_type": "code",
   "execution_count": null,
   "metadata": {},
   "outputs": [],
   "source": []
  },
  {
   "cell_type": "code",
   "execution_count": null,
   "metadata": {},
   "outputs": [],
   "source": []
  },
  {
   "cell_type": "code",
   "execution_count": null,
   "metadata": {},
   "outputs": [],
   "source": []
  }
 ],
 "metadata": {
  "kernelspec": {
   "display_name": "Python 3",
   "language": "python",
   "name": "python3"
  },
  "language_info": {
   "codemirror_mode": {
    "name": "ipython",
    "version": 3
   },
   "file_extension": ".py",
   "mimetype": "text/x-python",
   "name": "python",
   "nbconvert_exporter": "python",
   "pygments_lexer": "ipython3",
   "version": "3.8.2"
  }
 },
 "nbformat": 4,
 "nbformat_minor": 4
}
